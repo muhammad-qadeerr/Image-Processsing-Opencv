{
 "cells": [
  {
   "cell_type": "code",
   "execution_count": 1,
   "id": "9772c703",
   "metadata": {},
   "outputs": [],
   "source": [
    "import cv2\n",
    "import numpy as np"
   ]
  },
  {
   "cell_type": "code",
   "execution_count": 4,
   "id": "47971da1",
   "metadata": {},
   "outputs": [],
   "source": [
    "img_path = r\"\"\"F:\\OpenCV  Tutorials\\Image_data\\cat02.jpg\"\"\"\n",
    "img = cv2.imread(img_path)\n",
    "#img = cv2.resize(img, (1280, 720))\n",
    "\n",
    "cv2.imshow(\"Image\", img)\n",
    "cv2.waitKey(0)\n",
    "cv2.destroyAllWindows()"
   ]
  },
  {
   "cell_type": "markdown",
   "id": "2c379ce9",
   "metadata": {},
   "source": [
    "# Image Blurring methodology\n",
    "Kernel:\n",
    "[1/9, 1/9, 1/9]\n",
    "[1/9, 1/9, 1/9]\n",
    "[1/9, 1/9, 1/9]\n",
    "\n",
    "Image Patch (centered at 3,3):\n",
    "[ 70,  80,  90, 100, 110]\n",
    "[120, 130, 140, 150, 160]\n",
    "[170, 180, 190, 200, 210]\n",
    "[220, 230, 240, 250, 260]\n",
    "[270, 280, 290, 300, 310]\n",
    "\n",
    "\n",
    "Result of Element-Wise Multiplication:\n",
    "[ (70*1/9),  (80*1/9),  (90*1/9), (100*1/9), (110*1/9)]\n",
    "[(120*1/9), (130*1/9), (140*1/9), (150*1/9), (160*1/9)]\n",
    "[(170*1/9), (180*1/9), (190*1/9), (200*1/9), (210*1/9)]\n",
    "[(220*1/9), (230*1/9), (240*1/9), (250*1/9), (260*1/9)]\n",
    "[(270*1/9), (280*1/9), (290*1/9), (300*1/9), (310*1/9)]\n",
    "\n",
    "\n",
    "Sum = (70*1/9) + (80*1/9) + (90*1/9) + (100*1/9) + (110*1/9) + (120*1/9) + (130*1/9) + (140*1/9) + (150*1/9) + (160*1/9) + (170*1/9) + (180*1/9) + (190*1/9) + (200*1/9) + (210*1/9) + (220*1/9) + (230*1/9) + (240*1/9) + (250*1/9) + (260*1/9) + (270*1/9) + (280*1/9) + (290*1/9) + (300*1/9) + (310*1/9)\n",
    "Sum = 2100/9\n",
    "Sum = 233.33 (approximately)\n"
   ]
  },
  {
   "cell_type": "code",
   "execution_count": 14,
   "id": "79ecaa10",
   "metadata": {},
   "outputs": [],
   "source": [
    "# Image Bluring using 3 x 3 Kernel\n",
    "one_mat_3_3 = np.ones((3,3), dtype = np.float32)/9\n",
    "# filter2D(src, ddepth, kernel[, dst[, anchor[, delta[, borderType]]]])\n",
    "blur_img_3_3 = cv2.filter2D(img, -1, one_mat_3_3)\n",
    "\n",
    "cv2.imshow(\"Blur_image_3_3\", blur_img_3_3)\n",
    "cv2.imshow(\"Original Image\", img)\n",
    "\n",
    "cv2.waitKey(0)\n",
    "cv2.destroyAllWindows()"
   ]
  },
  {
   "cell_type": "code",
   "execution_count": 15,
   "id": "608f1455",
   "metadata": {},
   "outputs": [],
   "source": [
    "# Image Bluring using 5 x 5 Kernel\n",
    "one_mat_5x5 = np.ones((5,5), dtype = np.float32)/25\n",
    "blur_img_5x5 = cv2.filter2D(img,  -1, one_mat_5x5)\n",
    "\n",
    "cv2.imshow(\"Blur_image_3_3\", blur_img_3_3)\n",
    "cv2.imshow(\"Blue_img_5x5\", blur_img_5x5)\n",
    "cv2.imshow(\"Original Image\", img)\n",
    "\n",
    "cv2.waitKey(0)\n",
    "cv2.destroyAllWindows()"
   ]
  },
  {
   "cell_type": "code",
   "execution_count": 16,
   "id": "04e859be",
   "metadata": {},
   "outputs": [],
   "source": [
    "# Image Bluring using 10 x 10 Kernel\n",
    "one_mat_10x10 = np.ones((10,10), dtype = np.float32)/100\n",
    "blur_img_10x10 = cv2.filter2D(img,  -1, one_mat_10x10)\n",
    "\n",
    "cv2.imshow(\"Blur_image_3_3\", blur_img_3_3)\n",
    "cv2.imshow(\"Blue_img_5x5\", blur_img_5x5)\n",
    "cv2.imshow(\"Blue_img_10x10\", blur_img_10x10)\n",
    "cv2.imshow(\"Original Image\", img)\n",
    "\n",
    "cv2.waitKey(0)\n",
    "cv2.destroyAllWindows()"
   ]
  },
  {
   "cell_type": "code",
   "execution_count": 17,
   "id": "af8edb67",
   "metadata": {},
   "outputs": [],
   "source": [
    "# Image Bluring using 50 x 50 Kernel\n",
    "one_mat_50x50 = np.ones((50,50), dtype = np.float32)/2500\n",
    "blur_img_50x50 = cv2.filter2D(img,  -1, one_mat_50x50)\n",
    "\n",
    "cv2.imshow(\"Blur_image_3_3\", blur_img_3_3)\n",
    "cv2.imshow(\"Blue_img_5x5\", blur_img_5x5)\n",
    "cv2.imshow(\"Blue_img_10x10\", blur_img_10x10)\n",
    "cv2.imshow(\"Blue_img_50x50\", blur_img_50x50)\n",
    "cv2.imshow(\"Original Image\", img)\n",
    "\n",
    "cv2.waitKey(0)\n",
    "cv2.destroyAllWindows()"
   ]
  },
  {
   "cell_type": "code",
   "execution_count": 18,
   "id": "d5dadf59",
   "metadata": {},
   "outputs": [],
   "source": [
    "# Image Bluring using 100 x 100 Kernel\n",
    "one_mat_100x100 = np.ones((100,100), dtype = np.float32)/10000\n",
    "blur_img_100x100 = cv2.filter2D(img,  -1, one_mat_100x100)\n",
    "\n",
    "cv2.imshow(\"Blur_image_3_3\", blur_img_3_3)\n",
    "cv2.imshow(\"Blue_img_5x5\", blur_img_5x5)\n",
    "cv2.imshow(\"Blue_img_10x10\", blur_img_10x10)\n",
    "cv2.imshow(\"Blue_img_50x50\", blur_img_50x50)\n",
    "cv2.imshow(\"Blue_img_100x100\", blur_img_100x100)\n",
    "cv2.imshow(\"Original Image\", img)\n",
    "\n",
    "cv2.waitKey(0)\n",
    "cv2.destroyAllWindows()"
   ]
  },
  {
   "cell_type": "code",
   "execution_count": 21,
   "id": "bfbb0290",
   "metadata": {},
   "outputs": [],
   "source": [
    "# Showing all the images in one Window\n",
    "\n",
    "img = cv2.resize(img, (400, 350))\n",
    "blur_img_3_3 = cv2.resize(blur_img_3_3, (400, 350))\n",
    "blur_img_5x5 = cv2.resize(blur_img_5x5, (400, 350))\n",
    "blur_img_10x10 = cv2.resize(blur_img_10x10, (400, 350))\n",
    "blur_img_50x50 = cv2.resize(blur_img_50x50, (400, 350))\n",
    "blur_img_100x100 = cv2.resize(blur_img_100x100, (400, 350))\n",
    " \n",
    "cv2.putText(img, \"Original\", org=(20,40), fontFace=cv2.FONT_HERSHEY_PLAIN, fontScale= 2 , color=(0,0,255))\n",
    "cv2.putText(blur_img_3_3, \"3x3 Filter\", org=(20,40), fontFace=cv2.FONT_HERSHEY_PLAIN, fontScale= 2 , color=(255,0,255))\n",
    "cv2.putText(blur_img_5x5, \"5x5 Filter\", org=(20,40), fontFace=cv2.FONT_HERSHEY_PLAIN, fontScale= 2 , color=(255,0,255))\n",
    "cv2.putText(blur_img_10x10, \"10x10 Filter\", org=(20,40), fontFace=cv2.FONT_HERSHEY_PLAIN, fontScale= 2 , color=(255,0,255))\n",
    "cv2.putText(blur_img_50x50, \"50x50 Filter\", org=(20,40), fontFace=cv2.FONT_HERSHEY_PLAIN, fontScale= 2 , color=(255,0,255))\n",
    "cv2.putText(blur_img_100x100, \"100x100 Filter\", org=(20,40), fontFace=cv2.FONT_HERSHEY_PLAIN, fontScale= 2 , color=(255,0,255))\n",
    " \n",
    "img1_3 = np.hstack((img, blur_img_3_3, blur_img_5x5))\n",
    "img2_3 = np.hstack((blur_img_10x10, blur_img_50x50,blur_img_100x100))\n",
    " \n",
    "img3_6 = np.vstack((img1_3,img2_3))\n",
    " \n",
    "cv2.imshow(\"1 original and 5 Blur Image\", img3_6)\n",
    "cv2.waitKey(0)\n",
    "cv2.destroyAllWindows()"
   ]
  },
  {
   "cell_type": "code",
   "execution_count": null,
   "id": "71f2e3d8",
   "metadata": {},
   "outputs": [],
   "source": []
  }
 ],
 "metadata": {
  "kernelspec": {
   "display_name": "Python 3 (ipykernel)",
   "language": "python",
   "name": "python3"
  },
  "language_info": {
   "codemirror_mode": {
    "name": "ipython",
    "version": 3
   },
   "file_extension": ".py",
   "mimetype": "text/x-python",
   "name": "python",
   "nbconvert_exporter": "python",
   "pygments_lexer": "ipython3",
   "version": "3.7.16"
  }
 },
 "nbformat": 4,
 "nbformat_minor": 5
}
