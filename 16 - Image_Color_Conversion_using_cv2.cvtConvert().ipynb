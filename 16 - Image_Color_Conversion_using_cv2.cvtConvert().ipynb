{
 "cells": [
  {
   "cell_type": "code",
   "execution_count": 1,
   "id": "28113f26",
   "metadata": {},
   "outputs": [],
   "source": [
    "import cv2\n",
    "import numpy as np\n",
    "import os"
   ]
  },
  {
   "cell_type": "code",
   "execution_count": 10,
   "id": "539e13d6",
   "metadata": {},
   "outputs": [],
   "source": [
    "img_path = r\"\"\"F:\\OpenCV  Tutorials\\Image_data\\cat15.jpg\"\"\"\n",
    "img = cv2.imread(img_path)\n",
    "img_resize = cv2.resize(img,(1280, 720))\n",
    "cv2.imshow(\"Image\", img_resize)\n",
    "cv2.waitKey()\n",
    "cv2.destroyAllWindows()"
   ]
  },
  {
   "cell_type": "code",
   "execution_count": 3,
   "id": "8e8b7bfb",
   "metadata": {},
   "outputs": [
    {
     "data": {
      "text/plain": [
       "(720, 1280, 3)"
      ]
     },
     "execution_count": 3,
     "metadata": {},
     "output_type": "execute_result"
    }
   ],
   "source": [
    "img_resize.shape"
   ]
  },
  {
   "cell_type": "code",
   "execution_count": 4,
   "id": "000147e2",
   "metadata": {},
   "outputs": [
    {
     "data": {
      "text/plain": [
       "array([[ 44,  44,  43, ..., 128, 129, 130],\n",
       "       [ 43,  42,  42, ..., 129, 130, 131],\n",
       "       [ 41,  41,  40, ..., 130, 131, 132],\n",
       "       ...,\n",
       "       [146, 145, 142, ...,  82, 103, 113],\n",
       "       [133, 133, 132, ...,  92, 107, 115],\n",
       "       [125, 125, 125, ...,  98, 111, 117]], dtype=uint8)"
      ]
     },
     "execution_count": 4,
     "metadata": {},
     "output_type": "execute_result"
    }
   ],
   "source": [
    "img_resize[:,:,0]  # Blue Image Channel"
   ]
  },
  {
   "cell_type": "code",
   "execution_count": 5,
   "id": "c64278b2",
   "metadata": {},
   "outputs": [
    {
     "data": {
      "text/plain": [
       "array([[126, 126, 125, ..., 173, 174, 175],\n",
       "       [125, 124, 124, ..., 174, 175, 176],\n",
       "       [123, 123, 122, ..., 175, 176, 177],\n",
       "       ...,\n",
       "       [175, 175, 174, ..., 132, 150, 159],\n",
       "       [174, 174, 173, ..., 136, 150, 157],\n",
       "       [174, 173, 172, ..., 139, 150, 156]], dtype=uint8)"
      ]
     },
     "execution_count": 5,
     "metadata": {},
     "output_type": "execute_result"
    }
   ],
   "source": [
    "img_resize[:,:,1] # Green Image Channel"
   ]
  },
  {
   "cell_type": "code",
   "execution_count": 6,
   "id": "e022a1bc",
   "metadata": {
    "scrolled": true
   },
   "outputs": [
    {
     "data": {
      "text/plain": [
       "array([[ 91,  91,  90, ..., 154, 155, 156],\n",
       "       [ 90,  90,  89, ..., 155, 156, 157],\n",
       "       [ 88,  88,  87, ..., 156, 157, 158],\n",
       "       ...,\n",
       "       [142, 141, 140, ...,  94, 113, 123],\n",
       "       [138, 138, 136, ...,  99, 118, 127],\n",
       "       [136, 135, 134, ..., 102, 121, 130]], dtype=uint8)"
      ]
     },
     "execution_count": 6,
     "metadata": {},
     "output_type": "execute_result"
    }
   ],
   "source": [
    "img_resize[:,:,2] # Red Image Channel"
   ]
  },
  {
   "cell_type": "code",
   "execution_count": 11,
   "id": "8190fbc5",
   "metadata": {},
   "outputs": [],
   "source": [
    "# Convert Image to Gray\n",
    "img_path = r\"\"\"F:\\OpenCV  Tutorials\\Image_data\\cat15.jpg\"\"\"\n",
    "img = cv2.imread(img_path)\n",
    "img_resize = cv2.resize(img,(1280, 720))\n",
    "\n",
    "# Gray color Conversion\n",
    "\n",
    "img_gray = cv2.cvtColor(img_resize, cv2.COLOR_BGR2GRAY)\n",
    "\n",
    "cv2.imshow(\"Gray Image\", img_gray)\n",
    "\n",
    "cv2.waitKey()\n",
    "\n",
    "cv2.destroyAllWindows()\n"
   ]
  },
  {
   "cell_type": "code",
   "execution_count": 12,
   "id": "74d8f0a9",
   "metadata": {},
   "outputs": [],
   "source": [
    "# Convert Image to HLS\n",
    "img_path = r\"\"\"F:\\OpenCV  Tutorials\\Image_data\\cat15.jpg\"\"\"\n",
    "img = cv2.imread(img_path)\n",
    "img_resize = cv2.resize(img,(1280, 720))\n",
    "\n",
    "# Gray color Conversion\n",
    "\n",
    "img_gray = cv2.cvtColor(img_resize, cv2.COLOR_BGR2HLS_FULL)\n",
    "\n",
    "cv2.imshow(\"HLS Image\", img_gray)\n",
    "\n",
    "cv2.waitKey()\n",
    "\n",
    "cv2.destroyAllWindows()\n"
   ]
  },
  {
   "cell_type": "code",
   "execution_count": 15,
   "id": "9a7ba4ff",
   "metadata": {},
   "outputs": [],
   "source": [
    "# Convert Image to HSV\n",
    "img_path = r\"\"\"F:\\OpenCV  Tutorials\\Image_data\\cat15.jpg\"\"\"\n",
    "img = cv2.imread(img_path)\n",
    "img_resize = cv2.resize(img,(1280, 720))\n",
    "\n",
    "# Gray color Conversion\n",
    "\n",
    "img_gray = cv2.cvtColor(img_resize, cv2.COLOR_BGR2HSV)\n",
    "\n",
    "cv2.imshow(\"HSV Image\", img_gray)\n",
    "\n",
    "cv2.waitKey()\n",
    "\n",
    "cv2.destroyAllWindows()\n"
   ]
  },
  {
   "cell_type": "code",
   "execution_count": 16,
   "id": "39936a49",
   "metadata": {},
   "outputs": [],
   "source": [
    "# Convert Image to YCrCb\n",
    "img_path = r\"\"\"F:\\OpenCV  Tutorials\\Image_data\\cat15.jpg\"\"\"\n",
    "img = cv2.imread(img_path)\n",
    "img_resize = cv2.resize(img,(1280, 720))\n",
    "\n",
    "# Gray color Conversion\n",
    "\n",
    "img_gray = cv2.cvtColor(img_resize, cv2.COLOR_BGR2YCrCb)\n",
    "\n",
    "cv2.imshow(\"YCrCb Image\", img_gray)\n",
    "\n",
    "cv2.waitKey()\n",
    "\n",
    "cv2.destroyAllWindows()\n"
   ]
  },
  {
   "cell_type": "code",
   "execution_count": 19,
   "id": "711d617d",
   "metadata": {},
   "outputs": [],
   "source": [
    "img_path = r\"\"\"F:\\OpenCV  Tutorials\\Image_data\\cat15.jpg\"\"\"\n",
    "img = cv2.imread(img_path)\n",
    "img_resize = cv2.resize(img,(1280, 720))\n",
    "\n",
    "# Gray color Conversion\n",
    "\n",
    "img_gray = cv2.cvtColor(img_resize, cv2.COLOR_BGR2RGBA)\n",
    "\n",
    "cv2.imshow(\"YCrCb Image\", img_gray)\n",
    "\n",
    "cv2.waitKey()\n",
    "\n",
    "cv2.destroyAllWindows()\n"
   ]
  },
  {
   "cell_type": "code",
   "execution_count": null,
   "id": "4c730d21",
   "metadata": {},
   "outputs": [],
   "source": []
  }
 ],
 "metadata": {
  "kernelspec": {
   "display_name": "Python 3 (ipykernel)",
   "language": "python",
   "name": "python3"
  },
  "language_info": {
   "codemirror_mode": {
    "name": "ipython",
    "version": 3
   },
   "file_extension": ".py",
   "mimetype": "text/x-python",
   "name": "python",
   "nbconvert_exporter": "python",
   "pygments_lexer": "ipython3",
   "version": "3.7.16"
  }
 },
 "nbformat": 4,
 "nbformat_minor": 5
}
