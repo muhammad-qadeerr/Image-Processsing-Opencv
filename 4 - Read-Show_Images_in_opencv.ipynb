{
 "cells": [
  {
   "cell_type": "code",
   "execution_count": 1,
   "id": "df41ea5b",
   "metadata": {},
   "outputs": [],
   "source": [
    "import cv2"
   ]
  },
  {
   "cell_type": "code",
   "execution_count": 2,
   "id": "4d919afa",
   "metadata": {},
   "outputs": [],
   "source": [
    "path = r\"\"\"F:\\OpenCV  Tutorials\\Image_data\"\"\"   \n",
    "img_name = \"cat13.jpg\"\n",
    "\n",
    "img = cv2.imread(path + '\\\\' + img_name)   # Read the Image\n",
    "\n",
    "cv2.imshow('Image is: ',img)  # First Parameter is Windows name on which image will be shown\n",
    "\n",
    "cv2. waitKey(0)   # For how much time window will stay open. 0 means it will remian open untill any key is pressed on keyboard.\n",
    "\n",
    "cv2.destroyAllWindows() # To close all windows"
   ]
  },
  {
   "cell_type": "code",
   "execution_count": 3,
   "id": "f2aef95c",
   "metadata": {},
   "outputs": [],
   "source": [
    "img = cv2.imread(path + '\\\\' + img_name)   # Read the Image\n",
    "\n",
    "img = cv2.resize(img, (400, 400))   # Resize the image, first prameter img and 2nd a tuple with width and height\n",
    "\n",
    "cv2.imshow('Image is: ',img)  # First Parameter is Windows name on which image will be shown\n",
    "\n",
    "cv2. waitKey(0)   # For how much time window will stay open. 0 means it will remian open untill any key is pressed on keyboard.\n",
    "\n",
    "cv2.destroyAllWindows() # To close all windows"
   ]
  },
  {
   "cell_type": "code",
   "execution_count": 6,
   "id": "a8ed92e1",
   "metadata": {},
   "outputs": [],
   "source": [
    "# Making a slide show to read all images - one by one\n",
    "import os\n",
    "import cv2\n",
    "\n"
   ]
  },
  {
   "cell_type": "code",
   "execution_count": 7,
   "id": "c90cfb43",
   "metadata": {},
   "outputs": [
    {
     "data": {
      "text/plain": [
       "['cat01.jpg',\n",
       " 'cat02.jpg',\n",
       " 'cat03.jpg',\n",
       " 'cat04.jpg',\n",
       " 'cat05.jpg',\n",
       " 'cat06.jpg',\n",
       " 'cat07.jpg',\n",
       " 'cat08.jpg',\n",
       " 'cat09.jpg',\n",
       " 'cat10.jpg',\n",
       " 'cat11.jpg',\n",
       " 'cat12.jpg',\n",
       " 'cat13.jpg',\n",
       " 'cat14.jpg',\n",
       " 'cat15.jpg',\n",
       " 'cat16.jpg',\n",
       " 'cat17.jpg',\n",
       " 'cat18.png',\n",
       " 'cat19.jpg',\n",
       " 'cat20.jpg',\n",
       " 'cat21.jpg',\n",
       " 'cat22.jpg',\n",
       " 'cat23.jpg']"
      ]
     },
     "execution_count": 7,
     "metadata": {},
     "output_type": "execute_result"
    }
   ],
   "source": [
    "image_names = os.listdir('F:\\OpenCV  Tutorials\\Image_data')   # To show the list of images\n",
    "image_names"
   ]
  },
  {
   "cell_type": "code",
   "execution_count": 8,
   "id": "e2e098a3",
   "metadata": {
    "scrolled": true
   },
   "outputs": [
    {
     "ename": "TypeError",
     "evalue": "Argument 'delay' is required to be an integer",
     "output_type": "error",
     "traceback": [
      "\u001b[1;31m---------------------------------------------------------------------------\u001b[0m",
      "\u001b[1;31mTypeError\u001b[0m                                 Traceback (most recent call last)",
      "\u001b[1;32m~\\AppData\\Local\\Temp\\ipykernel_12124\\3094489935.py\u001b[0m in \u001b[0;36m<module>\u001b[1;34m\u001b[0m\n\u001b[0;32m      8\u001b[0m     \u001b[0mimg\u001b[0m \u001b[1;33m=\u001b[0m \u001b[0mcv2\u001b[0m\u001b[1;33m.\u001b[0m\u001b[0mresize\u001b[0m\u001b[1;33m(\u001b[0m\u001b[0mimg\u001b[0m\u001b[1;33m,\u001b[0m \u001b[1;33m(\u001b[0m\u001b[1;36m1280\u001b[0m\u001b[1;33m,\u001b[0m \u001b[1;36m720\u001b[0m\u001b[1;33m)\u001b[0m\u001b[1;33m)\u001b[0m\u001b[1;33m\u001b[0m\u001b[1;33m\u001b[0m\u001b[0m\n\u001b[0;32m      9\u001b[0m     \u001b[0mcv2\u001b[0m\u001b[1;33m.\u001b[0m\u001b[0mimshow\u001b[0m\u001b[1;33m(\u001b[0m\u001b[1;34m\"Image is: \"\u001b[0m\u001b[1;33m,\u001b[0m \u001b[0mimg\u001b[0m\u001b[1;33m)\u001b[0m\u001b[1;33m\u001b[0m\u001b[1;33m\u001b[0m\u001b[0m\n\u001b[1;32m---> 10\u001b[1;33m     \u001b[0mcv2\u001b[0m\u001b[1;33m.\u001b[0m\u001b[0mwaitKey\u001b[0m\u001b[1;33m(\u001b[0m\u001b[1;36m0.5\u001b[0m\u001b[1;33m)\u001b[0m\u001b[1;33m\u001b[0m\u001b[1;33m\u001b[0m\u001b[0m\n\u001b[0m\u001b[0;32m     11\u001b[0m \u001b[1;33m\u001b[0m\u001b[0m\n\u001b[0;32m     12\u001b[0m \u001b[0mcv2\u001b[0m\u001b[1;33m.\u001b[0m\u001b[0mdestroyAllWindows\u001b[0m\u001b[1;33m(\u001b[0m\u001b[1;33m)\u001b[0m\u001b[1;33m\u001b[0m\u001b[1;33m\u001b[0m\u001b[0m\n",
      "\u001b[1;31mTypeError\u001b[0m: Argument 'delay' is required to be an integer"
     ]
    }
   ],
   "source": [
    "# Showing the images one by one as a slide show\n",
    "path = r\"\"\"F:\\OpenCV  Tutorials\\Image_data\"\"\"\n",
    "\n",
    "for img_name in image_names:\n",
    "    #img_path_full = path + img_name\n",
    "    img_path_full = os.path.join(path, img_name)  # Use os.path.join to create the correct path\n",
    "    img = cv2.imread(img_path_full)\n",
    "    img = cv2.resize(img, (1280, 720))\n",
    "    cv2.imshow(\"Image is: \", img)\n",
    "    cv2.waitKey(0.5)\n",
    "    \n",
    "cv2.destroyAllWindows()\n",
    "    "
   ]
  },
  {
   "cell_type": "code",
   "execution_count": 9,
   "id": "b8e10adb",
   "metadata": {},
   "outputs": [],
   "source": [
    "# Showing the images one by one as a slideshow\n",
    "import os\n",
    "import cv2\n",
    "\n",
    "path = r\"\"\"F:\\OpenCV  Tutorials\\Image_data\"\"\"\n",
    "\n",
    "for img_name in image_names:\n",
    "    img_path_full = os.path.join(path, img_name)  # Use os.path.join to create the correct path\n",
    "    img = cv2.imread(img_path_full)\n",
    "    \n",
    "    if img is None:  # Check if the image was loaded successfully\n",
    "        print(f\"Error loading image: {img_path_full}\")\n",
    "        continue\n",
    "    \n",
    "    img = cv2.resize(img, (1280, 720))\n",
    "    cv2.imshow(\"Image is: \", img)\n",
    "    cv2.waitKey(500)  # Wait for 500 milliseconds\n",
    "    cv2.destroyAllWindows()\n"
   ]
  },
  {
   "cell_type": "code",
   "execution_count": 16,
   "id": "f800d01b",
   "metadata": {},
   "outputs": [],
   "source": [
    "# Showing image in window 4 or 5 times whatever we want\n",
    "\n",
    "import os\n",
    "import cv2\n",
    "import numpy as np\n",
    "\n",
    "path = r\"\"\"F:\\OpenCV  Tutorials\\Image_data\"\"\"\n",
    "\n",
    "for img_name in image_names:\n",
    "    img_path_full = os.path.join(path, img_name)  # Use os.path.join to create the correct path\n",
    "    img = cv2.imread(img_path_full)\n",
    "    \n",
    "    if img is None:  # Check if the image was loaded successfully\n",
    "        print(f\"Error loading image: {img_path_full}\")\n",
    "        continue\n",
    "    \n",
    "    img = cv2.resize(img, (300, 200))\n",
    "    img_2 = np.hstack((img, img, img))   # Concatinating two images in 2 cols (2 parameter so 2 cols and vice versa)\n",
    "    img_4 = np.vstack((img_2, img_2, img_2)) # Again Concatinating two images in 3 rows (3 parameter so 3 cols and vice versa)\n",
    "    \n",
    "    cv2.imshow(\"4 Images: \", img_4)\n",
    "    cv2.waitKey(500) \n",
    "cv2.destroyAllWindows()\n",
    "\n"
   ]
  },
  {
   "cell_type": "code",
   "execution_count": null,
   "id": "eff47714",
   "metadata": {},
   "outputs": [],
   "source": []
  }
 ],
 "metadata": {
  "kernelspec": {
   "display_name": "Python 3 (ipykernel)",
   "language": "python",
   "name": "python3"
  },
  "language_info": {
   "codemirror_mode": {
    "name": "ipython",
    "version": 3
   },
   "file_extension": ".py",
   "mimetype": "text/x-python",
   "name": "python",
   "nbconvert_exporter": "python",
   "pygments_lexer": "ipython3",
   "version": "3.7.16"
  }
 },
 "nbformat": 4,
 "nbformat_minor": 5
}
