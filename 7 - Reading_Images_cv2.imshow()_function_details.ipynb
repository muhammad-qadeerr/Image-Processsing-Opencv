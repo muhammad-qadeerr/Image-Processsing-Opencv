{
 "cells": [
  {
   "cell_type": "code",
   "execution_count": 1,
   "id": "032cdf9a",
   "metadata": {},
   "outputs": [],
   "source": [
    "# Syntax: cv2.imshow(Window_name, ndarray)\n",
    "# This fuction helps in showing numpy arrays in the form of image"
   ]
  },
  {
   "cell_type": "code",
   "execution_count": 2,
   "id": "4c2cec63",
   "metadata": {},
   "outputs": [],
   "source": [
    "import cv2\n",
    "import numpy as np"
   ]
  },
  {
   "cell_type": "code",
   "execution_count": 3,
   "id": "955f34bf",
   "metadata": {},
   "outputs": [
    {
     "name": "stdout",
     "output_type": "stream",
     "text": [
      "[[0. 0. 0. ... 0. 0. 0.]\n",
      " [0. 0. 0. ... 0. 0. 0.]\n",
      " [0. 0. 0. ... 0. 0. 0.]\n",
      " ...\n",
      " [0. 0. 0. ... 0. 0. 0.]\n",
      " [0. 0. 0. ... 0. 0. 0.]\n",
      " [0. 0. 0. ... 0. 0. 0.]]\n"
     ]
    }
   ],
   "source": [
    "matrix = np.zeros((200,200)) # Array of zeros 200 x 200, zeros means black pixel value - displays a black image\n",
    "print(matrix)\n",
    "\n",
    "cv2.imshow(\"Black image\", matrix)\n",
    "cv2.waitKey(0)\n",
    "cv2.destroyAllWindows()"
   ]
  },
  {
   "cell_type": "code",
   "execution_count": 10,
   "id": "2687d876",
   "metadata": {},
   "outputs": [],
   "source": [
    "path = r\"\"\"F:\\OpenCV  Tutorials\\Image_data\\cat12.jpg\"\"\"\n",
    "\n",
    "img = cv2.imread(path, -1)\n",
    "\n",
    "cv2.imshow(\"Cat12 \", img)    # Shows picture according to our screen resolution\n",
    "cv2.imshow(\"Cat12 1 \", img)\n",
    "cv2.imshow(\"Cat12 2 \", img)\n",
    "cv2.waitKey(0)\n",
    "cv2.destroyAllWindows()"
   ]
  },
  {
   "cell_type": "code",
   "execution_count": null,
   "id": "7dfa897a",
   "metadata": {},
   "outputs": [],
   "source": []
  }
 ],
 "metadata": {
  "kernelspec": {
   "display_name": "Python 3 (ipykernel)",
   "language": "python",
   "name": "python3"
  },
  "language_info": {
   "codemirror_mode": {
    "name": "ipython",
    "version": 3
   },
   "file_extension": ".py",
   "mimetype": "text/x-python",
   "name": "python",
   "nbconvert_exporter": "python",
   "pygments_lexer": "ipython3",
   "version": "3.7.16"
  }
 },
 "nbformat": 4,
 "nbformat_minor": 5
}
