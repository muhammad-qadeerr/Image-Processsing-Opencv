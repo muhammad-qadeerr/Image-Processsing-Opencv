{
 "cells": [
  {
   "cell_type": "markdown",
   "id": "4bea9766",
   "metadata": {},
   "source": [
    "# Convert Color Or Gray Image Into Blue Green Red Image Using OpenCV Python"
   ]
  },
  {
   "cell_type": "code",
   "execution_count": 1,
   "id": "fafb5af5",
   "metadata": {},
   "outputs": [],
   "source": [
    "import cv2\n",
    "import numpy as np"
   ]
  },
  {
   "cell_type": "code",
   "execution_count": 4,
   "id": "894a7585",
   "metadata": {},
   "outputs": [],
   "source": [
    "img_path = r\"\"\"F:\\OpenCV  Tutorials\\Image_data\\cat13.jpg\"\"\"\n",
    "img = cv2.imread(img_path)\n",
    "#img = cv2.resize(img, (1280, 720))\n",
    "\n",
    "cv2.imshow(\"Color image\", img)\n",
    "cv2.waitKey(0)\n",
    "cv2.destroyAllWindows()"
   ]
  },
  {
   "cell_type": "code",
   "execution_count": 5,
   "id": "e8889460",
   "metadata": {},
   "outputs": [
    {
     "data": {
      "text/plain": [
       "(640, 612, 3)"
      ]
     },
     "execution_count": 5,
     "metadata": {},
     "output_type": "execute_result"
    }
   ],
   "source": [
    " img.shape"
   ]
  },
  {
   "cell_type": "code",
   "execution_count": 6,
   "id": "1eadd135",
   "metadata": {},
   "outputs": [],
   "source": [
    "# Blue Image\n",
    "\n",
    "b, g, r = cv2.split(img)\n",
    "\n",
    "zeros_ch = np.zeros(img.shape[0:2], dtype = \"uint8\")\n",
    "\n",
    "blue_img = cv2.merge([b,zeros_ch, zeros_ch])\n",
    "\n",
    "cv2.imshow(\"Blue Image\", blue_img)\n",
    "\n",
    "cv2.waitKey(0)\n",
    "\n",
    "cv2.destroyAllWindows()\n",
    "\n"
   ]
  },
  {
   "cell_type": "markdown",
   "id": "ad5b8a0e",
   "metadata": {},
   "source": [
    "# Seperation of different color channels\n",
    "Explanation of Changes:\n",
    "\n",
    "empty_channel = np.zeros_like(b): Here, we create an empty channel array filled with zeros. This array has the same dimensions as the blue channel. It represents an empty blue or red channel.\n",
    "\n",
    "green_channel_only = cv2.merge((empty_channel, g, empty_channel)): This line merges the original green channel (g) with two empty channels for blue and red. The result is an image where only the green channel has non-zero values, effectively extracting the green channel.\n",
    "\n",
    "The rest of the code remains the same as before. This modified code will display an image where only the green channel values are retained, while the blue and red channels are filled with zeros.\n",
    "\n"
   ]
  },
  {
   "cell_type": "code",
   "execution_count": 14,
   "id": "29b58547",
   "metadata": {},
   "outputs": [],
   "source": [
    "# Seperate Chennel i.e. green can be extracted in the follwing way as well\n",
    "\n",
    "import cv2\n",
    "import numpy as np\n",
    "\n",
    "# Load an image\n",
    "img_path = r\"\"\"F:\\OpenCV  Tutorials\\Image_data\\cat13.jpg\"\"\"\n",
    "img = cv2.imread(img_path)\n",
    "\n",
    "# Split the image into its color channels\n",
    "b, g, r = cv2.split(img)\n",
    "\n",
    "# Create an empty blue and red channel arrays\n",
    "empty_channel = np.zeros_like(b)\n",
    "\n",
    "# Merge the blue channel with empty green and red channels to visualize\n",
    "green_channel_only = cv2.merge((empty_channel,g, empty_channel))\n",
    "\n",
    "# Display the blue channel extracted image\n",
    "cv2.imshow(\"Green Channel\", green_channel_only)\n",
    "cv2.waitKey(0)\n",
    "cv2.destroyAllWindows()\n"
   ]
  },
  {
   "cell_type": "markdown",
   "id": "268de0e0",
   "metadata": {},
   "source": [
    "# Array demostration of Seperating Blue Channel Only\n",
    "\n",
    "Original Image:\n",
    "[[[ 90 120 255]\n",
    "  [ 40  70 180]\n",
    "  [150 200 100]]\n",
    "\n",
    " [[210 240  60]\n",
    "  [130 160 220]\n",
    "  [ 80 110 190]]\n",
    "\n",
    " [[170 140 210]\n",
    "  [250 220 170]\n",
    "  [230 200 150]]]\n",
    "\n",
    "b, g, r = cv2.split(img): This line splits the image into its blue (b), green (g), and red (r) color channels.\n",
    "\n",
    "empty_channel = np.zeros_like(g): Here, we create an empty channel array filled with zeros. This array has the same dimensions as the green channel. It represents an empty green or red channel.\n",
    "\n",
    "blue_channel_only = cv2.merge((b, empty_channel, empty_channel)): This line merges the original blue channel (b) with two empty channels for green and red. The result is an image where only the blue channel has non-zero values, effectively extracting the blue channel.\n",
    "\n",
    "\n",
    "Extracted BlUE image:\n",
    "\n",
    "Blue Channel Extracted Image:\n",
    "[[[ 90   0   0]\n",
    "  [ 40   0   0]\n",
    "  [150   0   0]]\n",
    "\n",
    " [[210   0   0]\n",
    "  [130   0   0]\n",
    "  [ 80   0   0]]\n",
    "\n",
    " [[170   0   0]\n",
    "  [250   0   0]\n",
    "  [230   0   0]]]\n"
   ]
  },
  {
   "cell_type": "code",
   "execution_count": 13,
   "id": "2fd84545",
   "metadata": {},
   "outputs": [],
   "source": [
    "import cv2\n",
    "import numpy as np\n",
    "\n",
    "# Load an image\n",
    "img_path = r\"\"\"F:\\OpenCV  Tutorials\\Image_data\\cat13.jpg\"\"\"\n",
    "img = cv2.imread(img_path)\n",
    "\n",
    "# Split the image into its color channels\n",
    "b, g, r = cv2.split(img)\n",
    "\n",
    "# Create an empty green and red channel arrays\n",
    "empty_channel = np.zeros_like(g)\n",
    "\n",
    "# Merge the blue channel with empty green and red channels to visualize\n",
    "blue_channel_only = cv2.merge((b, empty_channel, empty_channel))\n",
    "\n",
    "# Display the blue channel extracted image\n",
    "cv2.imshow(\"Blue Channel\", blue_channel_only)\n",
    "cv2.waitKey(0)\n",
    "cv2.destroyAllWindows()\n"
   ]
  },
  {
   "cell_type": "markdown",
   "id": "597625af",
   "metadata": {},
   "source": [
    "# Alternative Method - Seperation of Blue/Green/Red Channel\n",
    "\n"
   ]
  },
  {
   "cell_type": "code",
   "execution_count": 19,
   "id": "f59158a3",
   "metadata": {},
   "outputs": [],
   "source": [
    "b, g, r = cv2.split(img)\n",
    "\n",
    "# img.shape was (640, 612, 3)\n",
    "zeros_ch = np.zeros(img.shape[0:2], dtype = \"uint8\") # it creates an array or zeros of (640, 612) due to img.shape[0:2]  \n",
    "\n",
    "\n",
    "blue_img = cv2.merge([b,zeros_ch, zeros_ch]) # b and other channel array of zeros acc to b,g,r gives blue channel and vice versa \n",
    "green_img = cv2.merge([zeros_ch, g, zeros_ch])\n",
    "red_img = cv2.merge([zeros_ch,zeros_ch, r])\n",
    "\n",
    "cv2.imshow(\"Original Image\", img)\n",
    "cv2.imshow(\"Blue Image\", blue_img)\n",
    "cv2.imshow(\"Green Image\", green_img)\n",
    "cv2.imshow(\"Red Image\", red_img)\n",
    "\n",
    "cv2.waitKey(0) \n",
    "cv2.destroyAllWindows()"
   ]
  },
  {
   "cell_type": "code",
   "execution_count": null,
   "id": "4d553fe3",
   "metadata": {},
   "outputs": [],
   "source": []
  }
 ],
 "metadata": {
  "kernelspec": {
   "display_name": "Python 3 (ipykernel)",
   "language": "python",
   "name": "python3"
  },
  "language_info": {
   "codemirror_mode": {
    "name": "ipython",
    "version": 3
   },
   "file_extension": ".py",
   "mimetype": "text/x-python",
   "name": "python",
   "nbconvert_exporter": "python",
   "pygments_lexer": "ipython3",
   "version": "3.7.16"
  }
 },
 "nbformat": 4,
 "nbformat_minor": 5
}
