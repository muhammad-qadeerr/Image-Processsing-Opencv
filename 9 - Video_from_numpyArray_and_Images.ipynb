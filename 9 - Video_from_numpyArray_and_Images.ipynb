{
 "cells": [
  {
   "cell_type": "code",
   "execution_count": 3,
   "id": "7482afd9",
   "metadata": {},
   "outputs": [],
   "source": [
    "# Video from Numpy Array\n",
    "\n",
    "import numpy as np\n",
    "import cv2\n",
    "import os\n",
    "\n",
    "width = 1280\n",
    "height = 720\n",
    "channel = 3\n",
    "\n",
    "fps = 30\n",
    "sec = 5\n",
    "\n",
    "# VideoWriter_fourcc(c1, c2, c3, c4) -> retval\n",
    "#.   @brief Concatenates 4 chars to a fourcc code\n",
    "#.   \n",
    "#.       @return a fourcc code   \n",
    "#.       This static method constructs the fourcc code of the codec to be used in the constructor\n",
    "\n",
    " # FourCC is a 4-byte code used to specify the video codec.\n",
    "# A video codec is software or hardware that compresses and decompresses digital video. \n",
    "# In the context of video compression, codec is a portmanteau of encoder and decoder, \n",
    "# while a device that only compresses is typically called an encoder, and one that only \n",
    "# decompresses is a decoder. Source - Wikipedia\n",
    "\n",
    "fourcc = cv2.VideoWriter_fourcc(*'MP42')  # MP42 is fourcc code for video to be created, it can be written seperatly in as 4 chars in single quotes as well\n",
    "\n",
    "# #Syntax: cv2.VideoWriter( filename, fourcc, fps, frameSize )\n",
    "\n",
    "video = cv2.VideoWriter('numpyVid.mp4', fourcc, float(fps), (width, height))\n",
    "\n",
    "for frame_count in range(fps*sec):\n",
    "    img = np.random.randint(0,255,(height, width, channel), dtype = np.uint8) # randint(low, high=None, size=None, dtype=int)\n",
    "    video.write(img)\n",
    "    \n",
    "video.release()\n",
    "    \n"
   ]
  },
  {
   "cell_type": "code",
   "execution_count": 5,
   "id": "96e1814a",
   "metadata": {},
   "outputs": [
    {
     "name": "stdout",
     "output_type": "stream",
     "text": [
      "['cat01.jpg', 'cat02.jpg', 'cat03.jpg', 'cat04.jpg', 'cat05.jpg', 'cat06.jpg', 'cat07.jpg', 'cat08.jpg', 'cat09.jpg', 'cat10.jpg', 'cat11.jpg', 'cat12.jpg', 'cat13.jpg', 'cat14.jpg', 'cat15.jpg', 'cat16.jpg', 'cat17.jpg', 'cat18.png', 'cat19.jpg', 'cat20.jpg', 'cat21.jpg', 'cat22.jpg', 'cat23.jpg', 'randNpArray.png']\n"
     ]
    }
   ],
   "source": [
    "# Creating video from image files\n",
    "\n",
    "import numpy as np\n",
    "import cv2\n",
    "import os\n",
    "\n",
    "width = 1280\n",
    "height = 720\n",
    "channel = 3\n",
    "\n",
    "fps = 30\n",
    "sec = 5\n",
    "\n",
    "# VideoWriter_fourcc(c1, c2, c3, c4) -> retval\n",
    "#.   @brief Concatenates 4 chars to a fourcc code\n",
    "#.   \n",
    "#.       @return a fourcc code   \n",
    "#.       This static method constructs the fourcc code of the codec to be used in the constructor\n",
    "\n",
    "# FourCC is a 4-byte code used to specify the video codec.\n",
    "# A video codec is software or hardware that compresses and decompresses digital video. \n",
    "# In the context of video compression, codec is a portmanteau of encoder and decoder, \n",
    "# while a device that only compresses is typically called an encoder, and one that only \n",
    "# decompresses is a decoder. Source - Wikipedia\n",
    "\n",
    "fourcc = cv2.VideoWriter_fourcc(*'MP42')  # MP42 is fourcc code for video to be created, it can be written seperatly in as 4 chars in single quotes as well\n",
    "\n",
    "# #Syntax: cv2.VideoWriter( filename, fourcc, fps, frameSize )\n",
    "\n",
    "video = cv2.VideoWriter('ImageVid.mp4', fourcc, float(fps), (width, height))\n",
    "\n",
    "directory = r'F:\\OpenCV  Tutorials\\Image_data'\n",
    "img_list = os.listdir(directory)\n",
    "\n",
    "print(img_list)\n",
    "\n",
    "for frame_count in range(fps*sec):\n",
    "    img_name = np.random.choice(img_list) # It means that for each frame, a random image from the directory will be chosen to be included in the video.\n",
    "    img_path = os.path.join(directory, img_name)\n",
    "    img = cv2.imread(img_path)\n",
    "    img_resized = cv2.resize(img, (width, height))\n",
    "    \n",
    "    video.write(img_resized)\n",
    "    \n",
    "video.release()"
   ]
  },
  {
   "cell_type": "code",
   "execution_count": null,
   "id": "e183f123",
   "metadata": {},
   "outputs": [],
   "source": []
  }
 ],
 "metadata": {
  "kernelspec": {
   "display_name": "Python 3 (ipykernel)",
   "language": "python",
   "name": "python3"
  },
  "language_info": {
   "codemirror_mode": {
    "name": "ipython",
    "version": 3
   },
   "file_extension": ".py",
   "mimetype": "text/x-python",
   "name": "python",
   "nbconvert_exporter": "python",
   "pygments_lexer": "ipython3",
   "version": "3.7.16"
  }
 },
 "nbformat": 4,
 "nbformat_minor": 5
}
