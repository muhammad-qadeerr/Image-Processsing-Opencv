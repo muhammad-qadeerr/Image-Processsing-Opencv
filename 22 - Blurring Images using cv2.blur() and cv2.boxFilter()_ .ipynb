{
 "cells": [
  {
   "cell_type": "code",
   "execution_count": 1,
   "id": "cde1b422",
   "metadata": {},
   "outputs": [],
   "source": [
    "import cv2\n",
    "import numpy as np"
   ]
  },
  {
   "cell_type": "code",
   "execution_count": 5,
   "id": "e2cb70e6",
   "metadata": {},
   "outputs": [],
   "source": [
    "img_path = r\"\"\"F:\\OpenCV  Tutorials\\Image_data\\cat03.jpg\"\"\"\n",
    "img = cv2.imread(img_path)\n",
    "#img = cv2.resize(img, (1280, 720))\n",
    "\n",
    "cv2.imshow(\"Image\", img)\n",
    "cv2.waitKey(0)\n",
    "cv2.destroyAllWindows()"
   ]
  },
  {
   "cell_type": "code",
   "execution_count": 6,
   "id": "6231e494",
   "metadata": {},
   "outputs": [],
   "source": [
    "# Blur Image using cv2.blur() with Kernel 3×3\n",
    "img_blur_3 = cv2.blur(img, (3,3))    # blur(src, ksize[, dst[, anchor[, borderType]]\n",
    "\n",
    "cv2.imshow(\"Original Image\", img)\n",
    "cv2.imshow(\"Img_blur_3\", img_blur_3)\n",
    "\n",
    "cv2.waitKey(0)\n",
    "cv2.destroyAllWindows()"
   ]
  },
  {
   "cell_type": "code",
   "execution_count": 8,
   "id": "cf23c0b9",
   "metadata": {},
   "outputs": [],
   "source": [
    "# Blur Image using cv2.blur() with Kernel 3×3\n",
    "img_blur_50 = cv2.blur(img, (50,50))    # blur(src, ksize[, dst[, anchor[, borderType]]\n",
    "\n",
    "cv2.imshow(\"Original Image\", img)\n",
    "cv2.imshow(\"Img_blur_3\", img_blur_3)\n",
    "cv2.imshow(\"Img_blur_50\", img_blur_50)\n",
    "\n",
    "cv2.waitKey(0)\n",
    "cv2.destroyAllWindows()"
   ]
  },
  {
   "cell_type": "code",
   "execution_count": 14,
   "id": "2907b845",
   "metadata": {},
   "outputs": [],
   "source": [
    "# Blur Image using cv2.boxfilter() with Kernel 3×3\n",
    "\n",
    "img_box_blur_3 = cv2.boxFilter(img, -1, (3,3))     # boxFilter(src, ddepth, ksize[, dst[, anchor[, normalize[, borderType]]]]) \n",
    " \n",
    "cv2.imshow(\"Model Blur\", img_box_blur_3)\n",
    "cv2.imshow(\"Model \", img)\n",
    " \n",
    "cv2.waitKey(0)\n",
    "cv2.destroyAllWindows()"
   ]
  },
  {
   "cell_type": "code",
   "execution_count": 17,
   "id": "7f69e030",
   "metadata": {},
   "outputs": [],
   "source": [
    "# Blur Image using cv2.boxfilter() with Kernel 3×3 without Normalization\n",
    "\n",
    "img_b_blur_3 = cv2.boxFilter(img, -1, (3,3), normalize=False)\n",
    "\n",
    "cv2.imshow(\"Model Blur\", img_box_blur_3)\n",
    "cv2.imshow(\"Model Blur without normalize\", img_b_blur_3)\n",
    "cv2.imshow(\"Model \", img)\n",
    " \n",
    "cv2.waitKey(0)\n",
    "cv2.destroyAllWindows()"
   ]
  },
  {
   "cell_type": "code",
   "execution_count": 18,
   "id": "b2e66528",
   "metadata": {},
   "outputs": [],
   "source": [
    "# Blur Image using cv2.boxfilter() with Kernel 3×3 with Normalization\n",
    "\n",
    "img_bn_blur_3 = cv2.boxFilter(img, -1, (3,3), normalize=True)\n",
    "\n",
    "cv2.imshow(\"Model Blur\", img_box_blur_3)\n",
    "cv2.imshow(\"Model Blur without normalize\", img_b_blur_3)\n",
    "cv2.imshow(\"Model Blur with normalize\", img_bn_blur_3)\n",
    "cv2.imshow(\"Model \", img)\n",
    " \n",
    "cv2.waitKey(0)\n",
    "cv2.destroyAllWindows()"
   ]
  },
  {
   "cell_type": "code",
   "execution_count": 19,
   "id": "a82a1542",
   "metadata": {},
   "outputs": [],
   "source": [
    "# Blur Image using cv2.boxfilter() with Kernel 50×50\n",
    "img_b_blur_50 = cv2.boxFilter(img, -1, (50,50))\n",
    " \n",
    "cv2.imshow(\"Model Blur\", img_b_blur_50)\n",
    "cv2.imshow(\"Model \", img)\n",
    " \n",
    "cv2.waitKey(0)\n",
    "cv2.destroyAllWindows()"
   ]
  },
  {
   "cell_type": "code",
   "execution_count": 22,
   "id": "066a948f",
   "metadata": {},
   "outputs": [],
   "source": [
    "# Show All images as a Stack\n",
    "\n",
    "import numpy as np\n",
    " \n",
    "img_blur_3 = cv2.resize(img_blur_3, (650, 400))\n",
    "img_blur_50 = cv2.resize(img_blur_50, (650, 400))\n",
    " \n",
    "img_b_blur_3 = cv2.resize(img_b_blur_3, (650, 400))\n",
    "img_b_blur_50 = cv2.resize(img_b_blur_50, (650, 400))\n",
    " \n",
    "#putText(img, text, org, fontFace, fontScale, color[, thickness[, lineType[, bottomLeftOrigin]]])\n",
    "cv2.putText(img_blur_3, \"blur 3x3\", (10,50), cv2.FONT_HERSHEY_COMPLEX, 2, (255,0,55), 3)\n",
    "cv2.putText(img_blur_50, \"blur 50x50\", (10,50), cv2.FONT_HERSHEY_COMPLEX, 2, (255,0,55), 3)\n",
    "cv2.putText(img_b_blur_3, \"box blur 3x3\", (10,50), cv2.FONT_HERSHEY_COMPLEX, 2, (255,255, 0), 3)\n",
    "cv2.putText(img_b_blur_50, \"box blur 50x50\", (10,50), cv2.FONT_HERSHEY_COMPLEX, 2, (255,255, 0), 3)\n",
    " \n",
    " \n",
    "blurr_2_img = np.hstack((img_blur_3, img_blur_50))\n",
    "filter_blur_2_img = np.hstack((img_b_blur_3, img_b_blur_50))\n",
    " \n",
    "img_4 = np.vstack((blurr_2_img, filter_blur_2_img))\n",
    " \n",
    "cv2.imshow(\"Show 4 Blur Image\", img_4)\n",
    " \n",
    "cv2.waitKey(0)\n",
    "cv2.destroyAllWindows()"
   ]
  },
  {
   "cell_type": "code",
   "execution_count": 25,
   "id": "d2cfc38f",
   "metadata": {},
   "outputs": [],
   "source": [
    "# Blur Image in 2 Line\n",
    "\n",
    "import cv2\n",
    " \n",
    "cv2.imshow(\"Blur Image\", cv2.blur(cv2.imread(r\"F:\\OpenCV  Tutorials\\Image_data\\cat03.jpg\"), (50,50)))\n",
    " \n",
    "cv2.waitKey(0)\n",
    "cv2.destroyAllWindows()"
   ]
  },
  {
   "cell_type": "code",
   "execution_count": null,
   "id": "292df6e5",
   "metadata": {},
   "outputs": [],
   "source": []
  }
 ],
 "metadata": {
  "kernelspec": {
   "display_name": "Python 3 (ipykernel)",
   "language": "python",
   "name": "python3"
  },
  "language_info": {
   "codemirror_mode": {
    "name": "ipython",
    "version": 3
   },
   "file_extension": ".py",
   "mimetype": "text/x-python",
   "name": "python",
   "nbconvert_exporter": "python",
   "pygments_lexer": "ipython3",
   "version": "3.7.16"
  }
 },
 "nbformat": 4,
 "nbformat_minor": 5
}
