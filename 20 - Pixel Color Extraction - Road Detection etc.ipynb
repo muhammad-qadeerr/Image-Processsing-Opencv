{
 "cells": [
  {
   "cell_type": "code",
   "execution_count": 18,
   "id": "feb66e78",
   "metadata": {},
   "outputs": [],
   "source": [
    "import cv2\n",
    "import numpy as np"
   ]
  },
  {
   "cell_type": "code",
   "execution_count": 24,
   "id": "49df010a",
   "metadata": {},
   "outputs": [],
   "source": [
    "img_path = r\"\"\"F:\\OpenCV  Tutorials\\Image_data\\road5.jpg\"\"\"\n",
    "\n",
    "img = cv2.imread(img_path)\n",
    "img = cv2.resize(img, (1280, 720))\n",
    "\n",
    "cv2.imshow(\"Road\", img)\n",
    "\n",
    "cv2.waitKey(0)\n",
    "cv2.destroyAllWindows()"
   ]
  },
  {
   "cell_type": "code",
   "execution_count": 25,
   "id": "a2c65ac4",
   "metadata": {},
   "outputs": [],
   "source": [
    "# Convert to Gray_Scale\n",
    "\n",
    "gray_image = cv2.cvtColor(img, cv2.COLOR_BGR2GRAY)\n",
    "cv2.imshow(\"Gray Road\",gray_image)\n",
    "cv2.waitKey(0)\n",
    "cv2.destroyAllWindows()\n"
   ]
  },
  {
   "cell_type": "code",
   "execution_count": 26,
   "id": "02148dda",
   "metadata": {
    "scrolled": true
   },
   "outputs": [
    {
     "data": {
      "text/plain": [
       "array([[231, 226, 227, ..., 189, 183, 186],\n",
       "       [223, 231, 223, ..., 181, 186, 186],\n",
       "       [222, 234, 223, ..., 189, 192, 187],\n",
       "       ...,\n",
       "       [ 34,  43,  53, ...,  42,  46,  48],\n",
       "       [ 35,  43,  55, ...,  43,  42,  37],\n",
       "       [ 32,  34,  35, ...,  40,  34,  40]], dtype=uint8)"
      ]
     },
     "execution_count": 26,
     "metadata": {},
     "output_type": "execute_result"
    }
   ],
   "source": [
    "gray_image  # Image range = 0 - 255 # Black = 0 and White = 255"
   ]
  },
  {
   "cell_type": "code",
   "execution_count": 31,
   "id": "8c79392f",
   "metadata": {},
   "outputs": [],
   "source": [
    "# Copying the image\n",
    "\n",
    "gray_image_copy = np.copy(gray_image)\n",
    "\n",
    "# if a pixel value of in the image is less than 180 allocate it to zero so that only white pixel left behind\n",
    "\n",
    "gray_image_copy[gray_image_copy[:,:] < 180] = 0\n",
    "\n",
    "cv2.imshow(\"White Pixel Road\",gray_image_copy)\n",
    "\n",
    "cv2.waitKey(0)\n",
    "cv2.destroyAllWindows()\n"
   ]
  },
  {
   "cell_type": "code",
   "execution_count": 33,
   "id": "5e78ef92",
   "metadata": {},
   "outputs": [
    {
     "data": {
      "text/plain": [
       "array([[False, False, False, ..., False, False, False],\n",
       "       [False, False, False, ..., False, False, False],\n",
       "       [False, False, False, ..., False, False, False],\n",
       "       ...,\n",
       "       [ True,  True,  True, ...,  True,  True,  True],\n",
       "       [ True,  True,  True, ...,  True,  True,  True],\n",
       "       [ True,  True,  True, ...,  True,  True,  True]])"
      ]
     },
     "execution_count": 33,
     "metadata": {},
     "output_type": "execute_result"
    }
   ],
   "source": [
    "gray_image_copy[:,:] < 180"
   ]
  },
  {
   "cell_type": "code",
   "execution_count": 36,
   "id": "99795cf4",
   "metadata": {
    "scrolled": true
   },
   "outputs": [
    {
     "data": {
      "text/plain": [
       "array([227, 230, 234, 227, 231, 224, 230, 223, 220, 235, 229, 221, 238,\n",
       "       230, 225, 219, 221, 229, 224, 231, 233, 222, 227, 227, 234, 226,\n",
       "       228, 216, 227, 226, 225, 220, 219, 227, 220, 228, 224, 224, 226,\n",
       "       231, 226, 231, 232, 234, 229, 222, 231, 228, 231, 230, 228, 225,\n",
       "       230, 228, 225, 227, 220, 228, 219, 220, 208, 218, 216, 208, 215,\n",
       "       214, 212, 216, 217, 216, 213, 216, 219, 222, 214, 211, 214, 213,\n",
       "       221, 215, 219, 217, 215, 215, 211, 217, 216, 205, 209, 213, 217,\n",
       "       214, 212, 215, 213, 210, 224, 221, 227, 226, 226, 222, 219, 221,\n",
       "       181, 219, 216, 223, 216, 213, 218, 215, 210, 215, 221, 218, 212,\n",
       "       215, 212, 212, 221, 217, 220, 215, 223, 184, 228, 218, 221, 209,\n",
       "       224, 213, 216, 214, 212, 213, 218, 221, 217, 214, 217, 206, 215,\n",
       "       210, 213, 212, 222, 213, 214, 249, 225, 217, 213, 212, 230, 243,\n",
       "       209, 214, 208, 216, 209, 219, 215, 214, 210, 217, 219, 211, 212,\n",
       "       219, 211, 215, 219, 212, 217, 210, 214, 210, 208, 215, 210, 213,\n",
       "       200, 213, 212, 203, 213, 210, 209, 212, 206, 203, 208, 211, 205,\n",
       "       207, 213, 208, 212, 215, 213, 216, 206, 206, 204, 214, 208, 210,\n",
       "       205, 206, 210, 207, 203, 206, 203, 206, 204, 211, 203, 208, 211,\n",
       "       200, 204, 200, 196, 201, 195, 195,   0,   0,   0,   0,   0,   0,\n",
       "         0,   0,   0,   0,   0,   0,   0,   0,   0,   0,   0,   0,   0,\n",
       "         0,   0,   0,   0,   0,   0,   0,   0,   0,   0,   0,   0,   0,\n",
       "         0,   0,   0,   0,   0,   0,   0,   0,   0,   0,   0,   0,   0,\n",
       "         0,   0,   0,   0,   0,   0,   0,   0,   0,   0,   0,   0,   0,\n",
       "         0,   0,   0,   0,   0,   0,   0,   0,   0,   0,   0,   0,   0,\n",
       "         0,   0,   0,   0,   0, 198,   0,   0,   0,   0,   0, 182,   0,\n",
       "         0,   0,   0,   0,   0,   0,   0,   0,   0,   0,   0,   0, 187,\n",
       "       186, 188, 218,   0, 187, 181,   0,   0,   0,   0, 207,   0,   0,\n",
       "         0, 191, 216, 192, 196,   0,   0,   0,   0,   0,   0,   0,   0,\n",
       "         0,   0,   0,   0,   0,   0,   0,   0,   0,   0,   0,   0,   0,\n",
       "         0, 239, 229, 229, 234, 227, 253,   0,   0,   0,   0,   0,   0,\n",
       "         0,   0,   0,   0,   0,   0,   0,   0,   0,   0, 199,   0,   0,\n",
       "         0,   0,   0,   0,   0,   0,   0,   0,   0,   0,   0,   0,   0,\n",
       "         0,   0,   0,   0,   0,   0,   0,   0,   0,   0,   0,   0,   0,\n",
       "         0,   0,   0,   0,   0,   0,   0,   0,   0,   0,   0,   0,   0,\n",
       "         0,   0,   0,   0,   0,   0,   0,   0,   0,   0,   0,   0,   0,\n",
       "         0,   0,   0,   0,   0,   0,   0,   0,   0,   0,   0,   0,   0,\n",
       "         0,   0,   0,   0,   0,   0,   0,   0,   0,   0,   0,   0, 214,\n",
       "         0,   0,   0,   0,   0,   0,   0,   0,   0,   0,   0,   0,   0,\n",
       "         0,   0,   0,   0,   0,   0,   0,   0,   0,   0,   0,   0,   0,\n",
       "         0,   0,   0,   0, 236,   0,   0,   0,   0,   0,   0,   0,   0,\n",
       "         0,   0,   0,   0,   0,   0,   0,   0,   0,   0,   0,   0,   0,\n",
       "         0, 247,   0,   0,   0,   0,   0,   0,   0,   0,   0,   0,   0,\n",
       "         0,   0, 204, 185,   0,   0,   0,   0,   0,   0,   0,   0,   0,\n",
       "         0,   0,   0, 224,   0,   0, 234,   0,   0,   0,   0,   0,   0,\n",
       "         0,   0,   0,   0,   0,   0,   0,   0,   0,   0,   0,   0,   0,\n",
       "         0,   0,   0,   0,   0,   0, 214,   0,   0,   0,   0,   0,   0,\n",
       "         0,   0,   0,   0,   0,   0,   0,   0,   0,   0,   0, 181,   0,\n",
       "         0,   0,   0,   0,   0,   0,   0,   0,   0,   0,   0,   0,   0,\n",
       "         0,   0,   0,   0,   0, 233, 245,   0,   0,   0,   0,   0,   0,\n",
       "         0,   0,   0,   0,   0,   0,   0,   0,   0,   0,   0,   0,   0,\n",
       "         0,   0,   0,   0,   0,   0,   0,   0,   0,   0,   0,   0,   0,\n",
       "         0,   0,   0,   0,   0,   0,   0,   0,   0,   0,   0,   0,   0,\n",
       "         0,   0,   0,   0,   0,   0,   0,   0,   0,   0,   0,   0,   0,\n",
       "         0,   0,   0,   0,   0,   0,   0,   0,   0,   0,   0,   0,   0,\n",
       "         0,   0,   0,   0,   0,   0,   0,   0,   0,   0,   0,   0,   0,\n",
       "         0,   0,   0,   0,   0,   0,   0,   0,   0,   0,   0,   0, 218,\n",
       "       194,   0,   0,   0,   0], dtype=uint8)"
      ]
     },
     "execution_count": 36,
     "metadata": {},
     "output_type": "execute_result"
    }
   ],
   "source": [
    "gray_image_copy[:,300]"
   ]
  },
  {
   "cell_type": "code",
   "execution_count": 37,
   "id": "78a9ac3e",
   "metadata": {},
   "outputs": [],
   "source": [
    "# Road Margin Detection using Color image\n",
    "\n",
    "img_copy = np.copy(img)\n",
    "\n"
   ]
  },
  {
   "cell_type": "code",
   "execution_count": 38,
   "id": "652415f7",
   "metadata": {},
   "outputs": [
    {
     "data": {
      "text/plain": [
       "(720, 1280, 3)"
      ]
     },
     "execution_count": 38,
     "metadata": {},
     "output_type": "execute_result"
    }
   ],
   "source": [
    "img_copy.shape"
   ]
  },
  {
   "cell_type": "code",
   "execution_count": 41,
   "id": "3f30c15c",
   "metadata": {},
   "outputs": [],
   "source": [
    "img_copy[(img_copy[:,:,0] < 200) | (img_copy[:,:,1] < 200) | (img_copy[:,:,2] < 200)] = 0\n",
    "img_copy\n",
    "\n",
    "cv2.imshow(\"Color Image Edge\",img_copy)\n",
    "cv2.waitKey(0)\n",
    "cv2.destroyAllWindows()"
   ]
  },
  {
   "cell_type": "markdown",
   "id": "0a3502eb",
   "metadata": {},
   "source": []
  },
  {
   "cell_type": "code",
   "execution_count": null,
   "id": "92d172b0",
   "metadata": {},
   "outputs": [],
   "source": [
    "import cv2\n"
   ]
  }
 ],
 "metadata": {
  "kernelspec": {
   "display_name": "Python 3 (ipykernel)",
   "language": "python",
   "name": "python3"
  },
  "language_info": {
   "codemirror_mode": {
    "name": "ipython",
    "version": 3
   },
   "file_extension": ".py",
   "mimetype": "text/x-python",
   "name": "python",
   "nbconvert_exporter": "python",
   "pygments_lexer": "ipython3",
   "version": "3.7.16"
  }
 },
 "nbformat": 4,
 "nbformat_minor": 5
}
