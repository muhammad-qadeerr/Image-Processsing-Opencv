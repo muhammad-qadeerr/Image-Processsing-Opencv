{
 "cells": [
  {
   "cell_type": "markdown",
   "id": "79713c52",
   "metadata": {},
   "source": [
    " # Splitting images in OpenCv\n",
    "In OpenCV, the splitting of images refers to the process of separating the color channels of a multi-channel image into individual single-channel images. A typical color image is composed of three color channels: red, green, and blue (RGB). Splitting an image into its individual channels can be useful for various image processing tasks, such as performing operations on individual color components or analyzing color information.\n",
    "\n"
   ]
  },
  {
   "cell_type": "code",
   "execution_count": 3,
   "id": "cc9d8e76",
   "metadata": {},
   "outputs": [],
   "source": [
    "import cv2\n",
    "import numpy as np"
   ]
  },
  {
   "cell_type": "code",
   "execution_count": 10,
   "id": "ee505552",
   "metadata": {},
   "outputs": [
    {
     "data": {
      "text/plain": [
       "(720, 1280, 3)"
      ]
     },
     "execution_count": 10,
     "metadata": {},
     "output_type": "execute_result"
    }
   ],
   "source": [
    "img_path = r\"\"\"F:\\OpenCV  Tutorials\\Image_data\\cat15.jpg\"\"\"\n",
    "img = cv2.imread(img_path)\n",
    "img = cv2.resize(img,(1280,720))\n",
    "\n",
    "img.shape\n",
    "\n",
    "\n"
   ]
  },
  {
   "cell_type": "code",
   "execution_count": 7,
   "id": "8cac414c",
   "metadata": {},
   "outputs": [
    {
     "data": {
      "text/plain": [
       "array([[ 44,  44,  43, ..., 128, 129, 130],\n",
       "       [ 43,  42,  42, ..., 129, 130, 131],\n",
       "       [ 41,  41,  40, ..., 130, 131, 132],\n",
       "       ...,\n",
       "       [146, 145, 142, ...,  82, 103, 113],\n",
       "       [133, 133, 132, ...,  92, 107, 115],\n",
       "       [125, 125, 125, ...,  98, 111, 117]], dtype=uint8)"
      ]
     },
     "execution_count": 7,
     "metadata": {},
     "output_type": "execute_result"
    }
   ],
   "source": [
    "img[:,:,0]  # Blue Image Channel"
   ]
  },
  {
   "cell_type": "code",
   "execution_count": 8,
   "id": "e206089d",
   "metadata": {},
   "outputs": [
    {
     "data": {
      "text/plain": [
       "array([[126, 126, 125, ..., 173, 174, 175],\n",
       "       [125, 124, 124, ..., 174, 175, 176],\n",
       "       [123, 123, 122, ..., 175, 176, 177],\n",
       "       ...,\n",
       "       [175, 175, 174, ..., 132, 150, 159],\n",
       "       [174, 174, 173, ..., 136, 150, 157],\n",
       "       [174, 173, 172, ..., 139, 150, 156]], dtype=uint8)"
      ]
     },
     "execution_count": 8,
     "metadata": {},
     "output_type": "execute_result"
    }
   ],
   "source": [
    "img[:,:,1]  # Green Image Channel"
   ]
  },
  {
   "cell_type": "code",
   "execution_count": 9,
   "id": "78d7ddfe",
   "metadata": {},
   "outputs": [
    {
     "data": {
      "text/plain": [
       "array([[ 91,  91,  90, ..., 154, 155, 156],\n",
       "       [ 90,  90,  89, ..., 155, 156, 157],\n",
       "       [ 88,  88,  87, ..., 156, 157, 158],\n",
       "       ...,\n",
       "       [142, 141, 140, ...,  94, 113, 123],\n",
       "       [138, 138, 136, ...,  99, 118, 127],\n",
       "       [136, 135, 134, ..., 102, 121, 130]], dtype=uint8)"
      ]
     },
     "execution_count": 9,
     "metadata": {},
     "output_type": "execute_result"
    }
   ],
   "source": [
    "img[:,:,2]  #  Red Image Channel"
   ]
  },
  {
   "cell_type": "code",
   "execution_count": 11,
   "id": "6fe09a29",
   "metadata": {},
   "outputs": [],
   "source": [
    "b, g, r = cv2.split(img)  "
   ]
  },
  {
   "cell_type": "code",
   "execution_count": 14,
   "id": "5183e532",
   "metadata": {},
   "outputs": [
    {
     "name": "stdout",
     "output_type": "stream",
     "text": [
      "Total time taken to split 100 Images:  0.3133993148803711\n"
     ]
    }
   ],
   "source": [
    "import time\n",
    "\n",
    "# This line captures the current time as the starting point for measuring the execution time of the following code.\n",
    "start_time = time.time()\n",
    "\n",
    "for i in range(100):\n",
    "    r, g, b = cv2.split(img)\n",
    "    \n",
    "# This line captures the current time after the loop has finished.\n",
    "end_time = time.time()\n",
    "\n",
    "print(\"Total time taken to split 100 Images: \", end_time - start_time)"
   ]
  },
  {
   "cell_type": "markdown",
   "id": "3aeee76c",
   "metadata": {},
   "source": [
    "# Merging of Images in OpenCV\n",
    "\n",
    "In OpenCV, merging images refers to the process of combining multiple single-channel or multi-channel images into a single multi-channel image. This is often used when you want to overlay images, blend them, or recombine separated color channels back into a full-color image. The primary function used for merging images is cv2.merge().\n",
    "\n",
    "For example, if you have split an image into its red, green, and blue color channels using cv2.split(), you can merge them back together using cv2.merge() to reconstruct the original full-color image. Similarly, if you have multiple images and you want to overlay or blend them, you can merge them into a single image using appropriate techniques."
   ]
  },
  {
   "cell_type": "code",
   "execution_count": 15,
   "id": "1d804f9f",
   "metadata": {},
   "outputs": [],
   "source": [
    "import cv2\n",
    "import numpy as np"
   ]
  },
  {
   "cell_type": "code",
   "execution_count": 17,
   "id": "a16fe3d8",
   "metadata": {},
   "outputs": [],
   "source": [
    "img_path = r\"\"\"F:\\OpenCV  Tutorials\\Image_data\\cat13.jpg\"\"\"\n",
    "\n",
    "img = cv2.imread(img_path)\n",
    "img = cv2.resize(img, (1280, 720))\n",
    "\n",
    "b, g, r = cv2.split(img)\n",
    "\n",
    "img_merge = cv2.merge([b,g,r])\n",
    "\n",
    "cv2.imshow(\"Cat13 Blue Image\", b)\n",
    "cv2.imshow(\"Cat13 Green Image\", g)\n",
    "cv2.imshow(\"Cat13 Red Image\", r)\n",
    "\n",
    "cv2.imshow(\"Merge Cat13 Image\", img_merge)\n",
    "\n",
    "cv2.waitKey(0)\n",
    "cv2.destroyAllWindows()"
   ]
  },
  {
   "cell_type": "code",
   "execution_count": null,
   "id": "79e98c0d",
   "metadata": {},
   "outputs": [],
   "source": []
  }
 ],
 "metadata": {
  "kernelspec": {
   "display_name": "Python 3 (ipykernel)",
   "language": "python",
   "name": "python3"
  },
  "language_info": {
   "codemirror_mode": {
    "name": "ipython",
    "version": 3
   },
   "file_extension": ".py",
   "mimetype": "text/x-python",
   "name": "python",
   "nbconvert_exporter": "python",
   "pygments_lexer": "ipython3",
   "version": "3.7.16"
  }
 },
 "nbformat": 4,
 "nbformat_minor": 5
}
